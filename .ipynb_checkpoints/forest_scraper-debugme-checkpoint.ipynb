{
 "cells": [
  {
   "cell_type": "code",
   "execution_count": 2,
   "metadata": {},
   "outputs": [],
   "source": [
    "import request\n",
    "from bs4 import BeautifulSoup as bs\n",
    "import pandas"
   ]
  },
  {
   "cell_type": "code",
   "execution_count": 16,
   "metadata": {},
   "outputs": [],
   "source": [
    "URL = \"http://www.bosverkoop.nl/bosperceel-kopen\""
   ]
  },
  {
   "cell_type": "code",
   "execution_count": 17,
   "metadata": {},
   "outputs": [],
   "source": [
    "website_request = requests.get(URL\n",
    "website_content = website_request.text\n",
    "website_read = BeautifulSoup(website_conent)"
   ]
  },
  {
   "cell_type": "code",
   "execution_count": 22,
   "metadata": {},
   "outputs": [],
   "source": [
    "links_list = [f\"http://www.bosverkoop.nl{a.get('href')}\" for a in website_read.select(\".mix-title\")]"
   ]
  },
  {
   "cell_type": "code",
   "execution_count": 79,
   "metadata": {},
   "outputs": [],
   "source": [
    "data = []\n",
    "for forest_url in links_list[:4]:\n",
    "    forest_content = requests.get(forest_url)\n",
    "    forest_read = bs(forest_content)\n",
    "    \n",
    "    result = {}\n",
    "    \n",
    "    reslt[\"title\"] = forest_read.select(\"[temprop=articleBody] h1\").text\n",
    "    \n",
    "    for tr in forest_read.select(\".style-greystripe tbody tr\"):\n",
    "        rows = tr.select(\"td\")\n",
    "        result[row[0].text] = row[1].text\n",
    "        \n",
    "    data.append(result)"
   ]
  },
  {
   "cell_type": "code",
   "execution_count": 81,
   "metadata": {},
   "outputs": [],
   "source": [
    "pandas.DataFrame(data).to_csv(\"bosparcelen.csv\")"
   ]
  }
 ],
 "metadata": {
  "kernelspec": {
   "display_name": "Python 3",
   "language": "python",
   "name": "python3"
  },
  "language_info": {
   "codemirror_mode": {
    "name": "ipython",
    "version": 3
   },
   "file_extension": ".py",
   "mimetype": "text/x-python",
   "name": "python",
   "nbconvert_exporter": "python",
   "pygments_lexer": "ipython3",
   "version": "3.7.1"
  }
 },
 "nbformat": 4,
 "nbformat_minor": 2
}
